{
 "cells": [
  {
   "cell_type": "code",
   "execution_count": 1,
   "metadata": {},
   "outputs": [],
   "source": [
    "from covidtracker import CovidTracker\n",
    "import numpy as np\n",
    "import pandas as pd\n",
    "%matplotlib inline"
   ]
  },
  {
   "cell_type": "code",
   "execution_count": 2,
   "metadata": {},
   "outputs": [],
   "source": [
    "cd = CovidTracker()"
   ]
  },
  {
   "cell_type": "code",
   "execution_count": 3,
   "metadata": {},
   "outputs": [],
   "source": [
    "cd.load_counties()"
   ]
  },
  {
   "cell_type": "code",
   "execution_count": 4,
   "metadata": {},
   "outputs": [
    {
     "data": {
      "text/plain": [
       "'2020-05-28'"
      ]
     },
     "execution_count": 4,
     "metadata": {},
     "output_type": "execute_result"
    }
   ],
   "source": [
    "dt=cd.getmostrecentdate()\n",
    "dt"
   ]
  },
  {
   "cell_type": "code",
   "execution_count": 5,
   "metadata": {},
   "outputs": [
    {
     "data": {
      "image/png": "[encoded data removed]",
      "text/plain": [
       "<Figure size 432x288 with 1 Axes>"
      ]
     },
     "metadata": {
      "needs_background": "light"
     },
     "output_type": "display_data"
    }
   ],
   "source": [
    "cd.plot_state(['Alabama','Arizona','Kentucky','Indiana','Ohio','Iowa'])"
   ]
  },
  {
   "cell_type": "code",
   "execution_count": 6,
   "metadata": {},
   "outputs": [],
   "source": [
    "ind = cd.getstateframe('Indiana', group_counties=True)"
   ]
  },
  {
   "cell_type": "code",
   "execution_count": 8,
   "metadata": {},
   "outputs": [
    {
     "name": "stdout",
     "output_type": "stream",
     "text": [
      "            Saratoga, New York  Dutchess, New York  Washington, New York\n",
      "date                                                                    \n",
      "2020-03-18                  14                  20                     1\n",
      "2020-03-19                  14                  31                     1\n",
      "2020-03-20                  24                  36                     1\n",
      "2020-03-21                  35                  49                     1\n",
      "2020-03-22                  41                  82                     1\n",
      "2020-03-23                  53                 100                     3\n",
      "2020-03-24                  60                 124                     3\n",
      "2020-03-25                  64                 153                     4\n",
      "2020-03-26                  73                 190                     4\n",
      "2020-03-27                  82                 225                     6\n",
      "2020-03-28                  96                 262                     6\n",
      "2020-03-29                 102                 320                     7\n",
      "2020-03-30                 105                 392                     7\n",
      "2020-03-31                 108                 484                    10\n",
      "2020-04-01                 122                 547                    10\n",
      "2020-04-02                 132                 667                    13\n",
      "2020-04-03                 132                 809                    13\n",
      "2020-04-04                 141                 938                    17\n",
      "2020-04-05                 148                1077                    18\n",
      "2020-04-06                 153                1189                    19\n",
      "2020-04-07                 163                1249                    19\n",
      "2020-04-08                 167                1395                    20\n",
      "2020-04-09                 172                1493                    25\n",
      "2020-04-10                 182                1598                    26\n",
      "2020-04-11                 187                1744                    31\n",
      "2020-04-12                 196                1838                    34\n",
      "2020-04-13                 201                1881                    37\n",
      "2020-04-14                 224                1934                    40\n",
      "2020-04-15                 227                2048                    42\n",
      "2020-04-16                 231                2085                    46\n",
      "...                        ...                 ...                   ...\n",
      "2020-04-29                 346                2881                   134\n",
      "2020-04-30                 354                2954                   148\n",
      "2020-05-01                 358                3002                   170\n",
      "2020-05-02                 361                3049                   184\n",
      "2020-05-03                 363                3086                   186\n",
      "2020-05-04                 367                3131                   188\n",
      "2020-05-05                 368                3151                   188\n",
      "2020-05-06                 371                3192                   189\n",
      "2020-05-07                 374                3233                   190\n",
      "2020-05-08                 388                3277                   201\n",
      "2020-05-09                 399                3319                   204\n",
      "2020-05-10                 402                3359                   206\n",
      "2020-05-11                 403                3378                   210\n",
      "2020-05-12                 407                3399                   210\n",
      "2020-05-13                 410                3429                   214\n",
      "2020-05-14                 415                3474                   215\n",
      "2020-05-15                 421                3498                   217\n",
      "2020-05-16                 423                3527                   218\n",
      "2020-05-17                 428                3543                   219\n",
      "2020-05-18                 434                3552                   219\n",
      "2020-05-19                 436                3710                   220\n",
      "2020-05-20                 438                3724                   221\n",
      "2020-05-21                 440                3745                   222\n",
      "2020-05-22                 448                3767                   224\n",
      "2020-05-23                 452                3793                   225\n",
      "2020-05-24                 456                3807                   226\n",
      "2020-05-25                 461                3825                   228\n",
      "2020-05-26                 463                3834                   228\n",
      "2020-05-27                 465                3847                   228\n",
      "2020-05-28                 468                3867                   231\n",
      "\n",
      "[72 rows x 3 columns]\n"
     ]
    },
    {
     "data": {
      "image/png": "[encoded data removed]",
      "text/plain": [
       "<Figure size 432x288 with 1 Axes>"
      ]
     },
     "metadata": {
      "needs_background": "light"
     },
     "output_type": "display_data"
    }
   ],
   "source": [
    "cd.plot_county([('New York', 'Saratoga'),\n",
    "   ('New York', 'Dutchess'),('New York', 'Washington')])"
   ]
  },
  {
   "cell_type": "code",
   "execution_count": null,
   "metadata": {},
   "outputs": [],
   "source": []
  },
  {
   "cell_type": "code",
   "execution_count": null,
   "metadata": {},
   "outputs": [],
   "source": [
    "dperc = cd.getdeathspercase('2020-05-25')\n",
    "dperc = dperc.loc[dperc['cases']>2000]\n",
    "dperc.sort_values('deaths per case', ascending=False)"
   ]
  },
  {
   "cell_type": "code",
   "execution_count": null,
   "metadata": {},
   "outputs": [],
   "source": [
    "dateframe = cd.getdateframe('2020-05-28')"
   ]
  },
  {
   "cell_type": "code",
   "execution_count": null,
   "metadata": {},
   "outputs": [],
   "source": [
    "diff = cd.getperioddifference('2020-05-28', 1, stat='cases').replace([np.inf], 0)"
   ]
  },
  {
   "cell_type": "code",
   "execution_count": null,
   "metadata": {},
   "outputs": [],
   "source": [
    "ny = cd.getstateframe('New York')\n",
    "nyc = cd.getcountyframe('New York', 'New York City')"
   ]
  },
  {
   "cell_type": "code",
   "execution_count": null,
   "metadata": {},
   "outputs": [],
   "source": [
    "nyc.loc['2020-05-01':]['cases'].plot()"
   ]
  },
  {
   "cell_type": "code",
   "execution_count": null,
   "metadata": {},
   "outputs": [],
   "source": [
    "fla = cd.getstateframe('Florida')"
   ]
  },
  {
   "cell_type": "code",
   "execution_count": null,
   "metadata": {},
   "outputs": [],
   "source": [
    "fla.loc['2020-05-25']-fla.loc['2020-05-18']"
   ]
  },
  {
   "cell_type": "code",
   "execution_count": null,
   "metadata": {},
   "outputs": [],
   "source": [
    "fla.loc['2020-05-18']-fla.loc['2020-05-11']"
   ]
  },
  {
   "cell_type": "code",
   "execution_count": null,
   "metadata": {},
   "outputs": [],
   "source": [
    "fla.loc['2020-05-11']-fla.loc['2020-05-04']"
   ]
  },
  {
   "cell_type": "code",
   "execution_count": null,
   "metadata": {},
   "outputs": [],
   "source": [
    "nyc = cd.getcountyframe('New York', 'New York City')\n",
    "ckco = cd.getcountyframe('Illinois', 'Cook')"
   ]
  },
  {
   "cell_type": "code",
   "execution_count": null,
   "metadata": {},
   "outputs": [],
   "source": [
    "ckco = ckco.set_index('date')\n",
    "nyc = nyc.set_index('date')"
   ]
  },
  {
   "cell_type": "code",
   "execution_count": null,
   "metadata": {},
   "outputs": [],
   "source": [
    "ckco_cases = ckco['cases'].rename('ck')\n",
    "nyc_cases = nyc['cases'].rename('ny')\n",
    "ckco_deaths = ckco['deaths'].rename('ck')\n",
    "nyc_deaths = nyc['deaths'].rename('ny')"
   ]
  },
  {
   "cell_type": "code",
   "execution_count": null,
   "metadata": {},
   "outputs": [],
   "source": [
    "ck_vs_ny=pd.concat([ckco_deaths, nyc_deaths], axis=1, join='inner')"
   ]
  },
  {
   "cell_type": "code",
   "execution_count": null,
   "metadata": {},
   "outputs": [],
   "source": [
    "ck_vs_ny.plot()"
   ]
  },
  {
   "cell_type": "code",
   "execution_count": null,
   "metadata": {},
   "outputs": [],
   "source": [
    "franklin = cd.getcountyframe('Ohio', 'Franklin')"
   ]
  },
  {
   "cell_type": "code",
   "execution_count": null,
   "metadata": {},
   "outputs": [],
   "source": [
    "dperc = franklin['deaths']/franklin['cases']"
   ]
  },
  {
   "cell_type": "code",
   "execution_count": null,
   "metadata": {},
   "outputs": [],
   "source": [
    "locals()"
   ]
  },
  {
   "cell_type": "code",
   "execution_count": null,
   "metadata": {},
   "outputs": [],
   "source": []
  }
 ],
 "metadata": {
  "kernelspec": {
   "display_name": "Python 3",
   "language": "python",
   "name": "python3"
  },
  "language_info": {
   "codemirror_mode": {
    "name": "ipython",
    "version": 3
   },
   "file_extension": ".py",
   "mimetype": "text/x-python",
   "name": "python",
   "nbconvert_exporter": "python",
   "pygments_lexer": "ipython3",
   "version": "3.6.5"
  }
 },
 "nbformat": 4,
 "nbformat_minor": 2
}
